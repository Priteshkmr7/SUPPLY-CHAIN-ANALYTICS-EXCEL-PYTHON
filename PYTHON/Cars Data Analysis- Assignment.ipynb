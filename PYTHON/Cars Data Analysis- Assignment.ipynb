{
 "cells": [
  {
   "cell_type": "markdown",
   "id": "dbe6f892",
   "metadata": {},
   "source": [
    "# Cars Dataset Analysis\n",
    "-Condition\n",
    "-Function\n",
    "-loop"
   ]
  },
  {
   "cell_type": "code",
   "execution_count": 1,
   "id": "17284c8b",
   "metadata": {},
   "outputs": [],
   "source": [
    "import pandas as pd"
   ]
  },
  {
   "cell_type": "code",
   "execution_count": 2,
   "id": "b8abf59c",
   "metadata": {},
   "outputs": [],
   "source": [
    "cars=pd.read_csv('cars.csv')"
   ]
  },
  {
   "cell_type": "code",
   "execution_count": 3,
   "id": "20684b22",
   "metadata": {},
   "outputs": [
    {
     "data": {
      "text/plain": [
       "Index(['name', 'sports_car', 'suv', 'wagon', 'minivan', 'pickup', 'all_wheel',\n",
       "       'rear_wheel', 'Price', 'Dealer_Cost', 'Engine_size', 'cylenders',\n",
       "       'horsepower', 'city_miles_per_galloon', 'highway_miles_per_Gallon',\n",
       "       'weight', 'base_wheeel', 'length', 'width'],\n",
       "      dtype='object')"
      ]
     },
     "execution_count": 3,
     "metadata": {},
     "output_type": "execute_result"
    }
   ],
   "source": [
    "cars.columns"
   ]
  },
  {
   "cell_type": "code",
   "execution_count": 4,
   "id": "e89a5a70",
   "metadata": {},
   "outputs": [
    {
     "data": {
      "text/html": [
       "<div>\n",
       "<style scoped>\n",
       "    .dataframe tbody tr th:only-of-type {\n",
       "        vertical-align: middle;\n",
       "    }\n",
       "\n",
       "    .dataframe tbody tr th {\n",
       "        vertical-align: top;\n",
       "    }\n",
       "\n",
       "    .dataframe thead th {\n",
       "        text-align: right;\n",
       "    }\n",
       "</style>\n",
       "<table border=\"1\" class=\"dataframe\">\n",
       "  <thead>\n",
       "    <tr style=\"text-align: right;\">\n",
       "      <th></th>\n",
       "      <th>name</th>\n",
       "      <th>sports_car</th>\n",
       "      <th>suv</th>\n",
       "      <th>wagon</th>\n",
       "      <th>minivan</th>\n",
       "      <th>pickup</th>\n",
       "      <th>all_wheel</th>\n",
       "      <th>rear_wheel</th>\n",
       "      <th>Price</th>\n",
       "      <th>Dealer_Cost</th>\n",
       "      <th>Engine_size</th>\n",
       "      <th>cylenders</th>\n",
       "      <th>horsepower</th>\n",
       "      <th>city_miles_per_galloon</th>\n",
       "      <th>highway_miles_per_Gallon</th>\n",
       "      <th>weight</th>\n",
       "      <th>base_wheeel</th>\n",
       "      <th>length</th>\n",
       "      <th>width</th>\n",
       "    </tr>\n",
       "  </thead>\n",
       "  <tbody>\n",
       "    <tr>\n",
       "      <th>0</th>\n",
       "      <td>Chevrolet Aveo 4dr</td>\n",
       "      <td>False</td>\n",
       "      <td>False</td>\n",
       "      <td>False</td>\n",
       "      <td>False</td>\n",
       "      <td>False</td>\n",
       "      <td>False</td>\n",
       "      <td>False</td>\n",
       "      <td>11690</td>\n",
       "      <td>10965</td>\n",
       "      <td>1.6</td>\n",
       "      <td>4</td>\n",
       "      <td>103</td>\n",
       "      <td>28.0</td>\n",
       "      <td>34.0</td>\n",
       "      <td>2370.0</td>\n",
       "      <td>98.0</td>\n",
       "      <td>167.0</td>\n",
       "      <td>66.0</td>\n",
       "    </tr>\n",
       "    <tr>\n",
       "      <th>1</th>\n",
       "      <td>Chevrolet Aveo LS 4dr hatch</td>\n",
       "      <td>False</td>\n",
       "      <td>False</td>\n",
       "      <td>False</td>\n",
       "      <td>False</td>\n",
       "      <td>False</td>\n",
       "      <td>False</td>\n",
       "      <td>False</td>\n",
       "      <td>12585</td>\n",
       "      <td>11802</td>\n",
       "      <td>1.6</td>\n",
       "      <td>4</td>\n",
       "      <td>103</td>\n",
       "      <td>28.0</td>\n",
       "      <td>34.0</td>\n",
       "      <td>2348.0</td>\n",
       "      <td>98.0</td>\n",
       "      <td>153.0</td>\n",
       "      <td>66.0</td>\n",
       "    </tr>\n",
       "    <tr>\n",
       "      <th>2</th>\n",
       "      <td>Chevrolet Cavalier 2dr</td>\n",
       "      <td>False</td>\n",
       "      <td>False</td>\n",
       "      <td>False</td>\n",
       "      <td>False</td>\n",
       "      <td>False</td>\n",
       "      <td>False</td>\n",
       "      <td>False</td>\n",
       "      <td>14610</td>\n",
       "      <td>13697</td>\n",
       "      <td>2.2</td>\n",
       "      <td>4</td>\n",
       "      <td>140</td>\n",
       "      <td>26.0</td>\n",
       "      <td>37.0</td>\n",
       "      <td>2617.0</td>\n",
       "      <td>104.0</td>\n",
       "      <td>183.0</td>\n",
       "      <td>69.0</td>\n",
       "    </tr>\n",
       "    <tr>\n",
       "      <th>3</th>\n",
       "      <td>Chevrolet Cavalier 4dr</td>\n",
       "      <td>False</td>\n",
       "      <td>False</td>\n",
       "      <td>False</td>\n",
       "      <td>False</td>\n",
       "      <td>False</td>\n",
       "      <td>False</td>\n",
       "      <td>False</td>\n",
       "      <td>14810</td>\n",
       "      <td>13884</td>\n",
       "      <td>2.2</td>\n",
       "      <td>4</td>\n",
       "      <td>140</td>\n",
       "      <td>26.0</td>\n",
       "      <td>37.0</td>\n",
       "      <td>2676.0</td>\n",
       "      <td>104.0</td>\n",
       "      <td>183.0</td>\n",
       "      <td>68.0</td>\n",
       "    </tr>\n",
       "    <tr>\n",
       "      <th>4</th>\n",
       "      <td>Chevrolet Cavalier LS 2dr</td>\n",
       "      <td>False</td>\n",
       "      <td>False</td>\n",
       "      <td>False</td>\n",
       "      <td>False</td>\n",
       "      <td>False</td>\n",
       "      <td>False</td>\n",
       "      <td>False</td>\n",
       "      <td>16385</td>\n",
       "      <td>15357</td>\n",
       "      <td>2.2</td>\n",
       "      <td>4</td>\n",
       "      <td>140</td>\n",
       "      <td>26.0</td>\n",
       "      <td>37.0</td>\n",
       "      <td>2617.0</td>\n",
       "      <td>104.0</td>\n",
       "      <td>183.0</td>\n",
       "      <td>69.0</td>\n",
       "    </tr>\n",
       "  </tbody>\n",
       "</table>\n",
       "</div>"
      ],
      "text/plain": [
       "                          name  sports_car    suv  wagon  minivan  pickup  \\\n",
       "0           Chevrolet Aveo 4dr       False  False  False    False   False   \n",
       "1  Chevrolet Aveo LS 4dr hatch       False  False  False    False   False   \n",
       "2       Chevrolet Cavalier 2dr       False  False  False    False   False   \n",
       "3       Chevrolet Cavalier 4dr       False  False  False    False   False   \n",
       "4    Chevrolet Cavalier LS 2dr       False  False  False    False   False   \n",
       "\n",
       "   all_wheel  rear_wheel  Price  Dealer_Cost  Engine_size  cylenders  \\\n",
       "0      False       False  11690        10965          1.6          4   \n",
       "1      False       False  12585        11802          1.6          4   \n",
       "2      False       False  14610        13697          2.2          4   \n",
       "3      False       False  14810        13884          2.2          4   \n",
       "4      False       False  16385        15357          2.2          4   \n",
       "\n",
       "   horsepower  city_miles_per_galloon  highway_miles_per_Gallon  weight  \\\n",
       "0         103                    28.0                      34.0  2370.0   \n",
       "1         103                    28.0                      34.0  2348.0   \n",
       "2         140                    26.0                      37.0  2617.0   \n",
       "3         140                    26.0                      37.0  2676.0   \n",
       "4         140                    26.0                      37.0  2617.0   \n",
       "\n",
       "   base_wheeel  length  width  \n",
       "0         98.0   167.0   66.0  \n",
       "1         98.0   153.0   66.0  \n",
       "2        104.0   183.0   69.0  \n",
       "3        104.0   183.0   68.0  \n",
       "4        104.0   183.0   69.0  "
      ]
     },
     "execution_count": 4,
     "metadata": {},
     "output_type": "execute_result"
    }
   ],
   "source": [
    "cars.head()"
   ]
  },
  {
   "cell_type": "markdown",
   "id": "7661f814",
   "metadata": {},
   "source": [
    "## 1- How many Rows are in the cars dataset?"
   ]
  },
  {
   "cell_type": "code",
   "execution_count": 5,
   "id": "1ee30f64",
   "metadata": {},
   "outputs": [
    {
     "data": {
      "text/plain": [
       "428"
      ]
     },
     "execution_count": 5,
     "metadata": {},
     "output_type": "execute_result"
    }
   ],
   "source": [
    "cars.shape[0]"
   ]
  },
  {
   "cell_type": "markdown",
   "id": "1bc84e19",
   "metadata": {},
   "source": [
    "## 2- How many Columns are in the car's data set?"
   ]
  },
  {
   "cell_type": "code",
   "execution_count": 6,
   "id": "0e3b2cca",
   "metadata": {},
   "outputs": [
    {
     "data": {
      "text/plain": [
       "19"
      ]
     },
     "execution_count": 6,
     "metadata": {},
     "output_type": "execute_result"
    }
   ],
   "source": [
    "cars.shape[1]"
   ]
  },
  {
   "cell_type": "markdown",
   "id": "3ddc3d86",
   "metadata": {},
   "source": [
    "## 3- How many unique numbers of cylinders we have in the cars dataset?"
   ]
  },
  {
   "cell_type": "code",
   "execution_count": 7,
   "id": "290945e1",
   "metadata": {},
   "outputs": [
    {
     "data": {
      "text/plain": [
       " 6     190\n",
       " 4     136\n",
       " 8      87\n",
       " 5       7\n",
       " 12      3\n",
       " 10      2\n",
       "-1       2\n",
       " 3       1\n",
       "Name: cylenders, dtype: int64"
      ]
     },
     "execution_count": 7,
     "metadata": {},
     "output_type": "execute_result"
    }
   ],
   "source": [
    "cars.cylenders.value_counts()"
   ]
  },
  {
   "cell_type": "code",
   "execution_count": 8,
   "id": "59447e18",
   "metadata": {},
   "outputs": [
    {
     "data": {
      "text/plain": [
       "array([ 4,  6,  3,  8,  5, 12, 10, -1], dtype=int64)"
      ]
     },
     "execution_count": 8,
     "metadata": {},
     "output_type": "execute_result"
    }
   ],
   "source": [
    "cars.cylenders.unique()"
   ]
  },
  {
   "cell_type": "markdown",
   "id": "c2f74568",
   "metadata": {},
   "source": [
    "## 4- What is the average horsepower of cars? "
   ]
  },
  {
   "cell_type": "code",
   "execution_count": 9,
   "id": "6acdd187",
   "metadata": {},
   "outputs": [
    {
     "data": {
      "text/plain": [
       "count    428.000000\n",
       "mean     215.885514\n",
       "std       71.836032\n",
       "min       73.000000\n",
       "25%      165.000000\n",
       "50%      210.000000\n",
       "75%      255.000000\n",
       "max      500.000000\n",
       "Name: horsepower, dtype: float64"
      ]
     },
     "execution_count": 9,
     "metadata": {},
     "output_type": "execute_result"
    }
   ],
   "source": [
    "cars.horsepower.describe()"
   ]
  },
  {
   "cell_type": "code",
   "execution_count": 12,
   "id": "7c557ffc",
   "metadata": {},
   "outputs": [
    {
     "data": {
      "text/plain": [
       "215.8855140186916"
      ]
     },
     "execution_count": 12,
     "metadata": {},
     "output_type": "execute_result"
    }
   ],
   "source": [
    "cars.horsepower.mean()"
   ]
  },
  {
   "cell_type": "markdown",
   "id": "97bc53be",
   "metadata": {},
   "source": [
    "## 5- What is the maximum horsepower?"
   ]
  },
  {
   "cell_type": "code",
   "execution_count": 14,
   "id": "c0911c18",
   "metadata": {},
   "outputs": [
    {
     "data": {
      "text/plain": [
       "500"
      ]
     },
     "execution_count": 14,
     "metadata": {},
     "output_type": "execute_result"
    }
   ],
   "source": [
    "cars.horsepower.max()"
   ]
  },
  {
   "cell_type": "markdown",
   "id": "e04c6aa1",
   "metadata": {},
   "source": [
    "## 6- What is the most expensive car ?"
   ]
  },
  {
   "cell_type": "code",
   "execution_count": 15,
   "id": "2af10209",
   "metadata": {},
   "outputs": [
    {
     "data": {
      "text/html": [
       "<div>\n",
       "<style scoped>\n",
       "    .dataframe tbody tr th:only-of-type {\n",
       "        vertical-align: middle;\n",
       "    }\n",
       "\n",
       "    .dataframe tbody tr th {\n",
       "        vertical-align: top;\n",
       "    }\n",
       "\n",
       "    .dataframe thead th {\n",
       "        text-align: right;\n",
       "    }\n",
       "</style>\n",
       "<table border=\"1\" class=\"dataframe\">\n",
       "  <thead>\n",
       "    <tr style=\"text-align: right;\">\n",
       "      <th></th>\n",
       "      <th>name</th>\n",
       "      <th>sports_car</th>\n",
       "      <th>suv</th>\n",
       "      <th>wagon</th>\n",
       "      <th>minivan</th>\n",
       "      <th>pickup</th>\n",
       "      <th>all_wheel</th>\n",
       "      <th>rear_wheel</th>\n",
       "      <th>Price</th>\n",
       "      <th>Dealer_Cost</th>\n",
       "      <th>Engine_size</th>\n",
       "      <th>cylenders</th>\n",
       "      <th>horsepower</th>\n",
       "      <th>city_miles_per_galloon</th>\n",
       "      <th>highway_miles_per_Gallon</th>\n",
       "      <th>weight</th>\n",
       "      <th>base_wheeel</th>\n",
       "      <th>length</th>\n",
       "      <th>width</th>\n",
       "    </tr>\n",
       "  </thead>\n",
       "  <tbody>\n",
       "    <tr>\n",
       "      <th>287</th>\n",
       "      <td>Porsche 911 GT2 2dr</td>\n",
       "      <td>True</td>\n",
       "      <td>False</td>\n",
       "      <td>False</td>\n",
       "      <td>False</td>\n",
       "      <td>False</td>\n",
       "      <td>False</td>\n",
       "      <td>True</td>\n",
       "      <td>192465</td>\n",
       "      <td>173560</td>\n",
       "      <td>3.6</td>\n",
       "      <td>6</td>\n",
       "      <td>477</td>\n",
       "      <td>17.0</td>\n",
       "      <td>24.0</td>\n",
       "      <td>3131.0</td>\n",
       "      <td>93.0</td>\n",
       "      <td>175.0</td>\n",
       "      <td>72.0</td>\n",
       "    </tr>\n",
       "  </tbody>\n",
       "</table>\n",
       "</div>"
      ],
      "text/plain": [
       "                    name  sports_car    suv  wagon  minivan  pickup  \\\n",
       "287  Porsche 911 GT2 2dr        True  False  False    False   False   \n",
       "\n",
       "     all_wheel  rear_wheel   Price  Dealer_Cost  Engine_size  cylenders  \\\n",
       "287      False        True  192465       173560          3.6          6   \n",
       "\n",
       "     horsepower  city_miles_per_galloon  highway_miles_per_Gallon  weight  \\\n",
       "287         477                    17.0                      24.0  3131.0   \n",
       "\n",
       "     base_wheeel  length  width  \n",
       "287         93.0   175.0   72.0  "
      ]
     },
     "execution_count": 15,
     "metadata": {},
     "output_type": "execute_result"
    }
   ],
   "source": [
    "cars[cars.Price== max(cars.Price)]"
   ]
  },
  {
   "cell_type": "code",
   "execution_count": 16,
   "id": "8afe0834",
   "metadata": {},
   "outputs": [],
   "source": [
    "most_expensive_car = cars[cars['Price'] == cars['Price'].max()]"
   ]
  },
  {
   "cell_type": "code",
   "execution_count": 17,
   "id": "44767ee5",
   "metadata": {},
   "outputs": [
    {
     "data": {
      "text/html": [
       "<div>\n",
       "<style scoped>\n",
       "    .dataframe tbody tr th:only-of-type {\n",
       "        vertical-align: middle;\n",
       "    }\n",
       "\n",
       "    .dataframe tbody tr th {\n",
       "        vertical-align: top;\n",
       "    }\n",
       "\n",
       "    .dataframe thead th {\n",
       "        text-align: right;\n",
       "    }\n",
       "</style>\n",
       "<table border=\"1\" class=\"dataframe\">\n",
       "  <thead>\n",
       "    <tr style=\"text-align: right;\">\n",
       "      <th></th>\n",
       "      <th>name</th>\n",
       "      <th>sports_car</th>\n",
       "      <th>suv</th>\n",
       "      <th>wagon</th>\n",
       "      <th>minivan</th>\n",
       "      <th>pickup</th>\n",
       "      <th>all_wheel</th>\n",
       "      <th>rear_wheel</th>\n",
       "      <th>Price</th>\n",
       "      <th>Dealer_Cost</th>\n",
       "      <th>Engine_size</th>\n",
       "      <th>cylenders</th>\n",
       "      <th>horsepower</th>\n",
       "      <th>city_miles_per_galloon</th>\n",
       "      <th>highway_miles_per_Gallon</th>\n",
       "      <th>weight</th>\n",
       "      <th>base_wheeel</th>\n",
       "      <th>length</th>\n",
       "      <th>width</th>\n",
       "    </tr>\n",
       "  </thead>\n",
       "  <tbody>\n",
       "    <tr>\n",
       "      <th>287</th>\n",
       "      <td>Porsche 911 GT2 2dr</td>\n",
       "      <td>True</td>\n",
       "      <td>False</td>\n",
       "      <td>False</td>\n",
       "      <td>False</td>\n",
       "      <td>False</td>\n",
       "      <td>False</td>\n",
       "      <td>True</td>\n",
       "      <td>192465</td>\n",
       "      <td>173560</td>\n",
       "      <td>3.6</td>\n",
       "      <td>6</td>\n",
       "      <td>477</td>\n",
       "      <td>17.0</td>\n",
       "      <td>24.0</td>\n",
       "      <td>3131.0</td>\n",
       "      <td>93.0</td>\n",
       "      <td>175.0</td>\n",
       "      <td>72.0</td>\n",
       "    </tr>\n",
       "  </tbody>\n",
       "</table>\n",
       "</div>"
      ],
      "text/plain": [
       "                    name  sports_car    suv  wagon  minivan  pickup  \\\n",
       "287  Porsche 911 GT2 2dr        True  False  False    False   False   \n",
       "\n",
       "     all_wheel  rear_wheel   Price  Dealer_Cost  Engine_size  cylenders  \\\n",
       "287      False        True  192465       173560          3.6          6   \n",
       "\n",
       "     horsepower  city_miles_per_galloon  highway_miles_per_Gallon  weight  \\\n",
       "287         477                    17.0                      24.0  3131.0   \n",
       "\n",
       "     base_wheeel  length  width  \n",
       "287         93.0   175.0   72.0  "
      ]
     },
     "execution_count": 17,
     "metadata": {},
     "output_type": "execute_result"
    }
   ],
   "source": [
    "most_expensive_car"
   ]
  },
  {
   "cell_type": "markdown",
   "id": "20dafec6",
   "metadata": {},
   "source": [
    "7- change the name of the column \"name\" to \"car name\""
   ]
  },
  {
   "cell_type": "code",
   "execution_count": 18,
   "id": "0f6e440f",
   "metadata": {},
   "outputs": [],
   "source": [
    "cars= cars.rename(columns= {'name': 'car_name'})"
   ]
  },
  {
   "cell_type": "code",
   "execution_count": 19,
   "id": "f522691d",
   "metadata": {
    "scrolled": true
   },
   "outputs": [
    {
     "data": {
      "text/html": [
       "<div>\n",
       "<style scoped>\n",
       "    .dataframe tbody tr th:only-of-type {\n",
       "        vertical-align: middle;\n",
       "    }\n",
       "\n",
       "    .dataframe tbody tr th {\n",
       "        vertical-align: top;\n",
       "    }\n",
       "\n",
       "    .dataframe thead th {\n",
       "        text-align: right;\n",
       "    }\n",
       "</style>\n",
       "<table border=\"1\" class=\"dataframe\">\n",
       "  <thead>\n",
       "    <tr style=\"text-align: right;\">\n",
       "      <th></th>\n",
       "      <th>car_name</th>\n",
       "      <th>sports_car</th>\n",
       "      <th>suv</th>\n",
       "      <th>wagon</th>\n",
       "      <th>minivan</th>\n",
       "      <th>pickup</th>\n",
       "      <th>all_wheel</th>\n",
       "      <th>rear_wheel</th>\n",
       "      <th>Price</th>\n",
       "      <th>Dealer_Cost</th>\n",
       "      <th>Engine_size</th>\n",
       "      <th>cylenders</th>\n",
       "      <th>horsepower</th>\n",
       "      <th>city_miles_per_galloon</th>\n",
       "      <th>highway_miles_per_Gallon</th>\n",
       "      <th>weight</th>\n",
       "      <th>base_wheeel</th>\n",
       "      <th>length</th>\n",
       "      <th>width</th>\n",
       "    </tr>\n",
       "  </thead>\n",
       "  <tbody>\n",
       "    <tr>\n",
       "      <th>0</th>\n",
       "      <td>Chevrolet Aveo 4dr</td>\n",
       "      <td>False</td>\n",
       "      <td>False</td>\n",
       "      <td>False</td>\n",
       "      <td>False</td>\n",
       "      <td>False</td>\n",
       "      <td>False</td>\n",
       "      <td>False</td>\n",
       "      <td>11690</td>\n",
       "      <td>10965</td>\n",
       "      <td>1.6</td>\n",
       "      <td>4</td>\n",
       "      <td>103</td>\n",
       "      <td>28.0</td>\n",
       "      <td>34.0</td>\n",
       "      <td>2370.0</td>\n",
       "      <td>98.0</td>\n",
       "      <td>167.0</td>\n",
       "      <td>66.0</td>\n",
       "    </tr>\n",
       "    <tr>\n",
       "      <th>1</th>\n",
       "      <td>Chevrolet Aveo LS 4dr hatch</td>\n",
       "      <td>False</td>\n",
       "      <td>False</td>\n",
       "      <td>False</td>\n",
       "      <td>False</td>\n",
       "      <td>False</td>\n",
       "      <td>False</td>\n",
       "      <td>False</td>\n",
       "      <td>12585</td>\n",
       "      <td>11802</td>\n",
       "      <td>1.6</td>\n",
       "      <td>4</td>\n",
       "      <td>103</td>\n",
       "      <td>28.0</td>\n",
       "      <td>34.0</td>\n",
       "      <td>2348.0</td>\n",
       "      <td>98.0</td>\n",
       "      <td>153.0</td>\n",
       "      <td>66.0</td>\n",
       "    </tr>\n",
       "    <tr>\n",
       "      <th>2</th>\n",
       "      <td>Chevrolet Cavalier 2dr</td>\n",
       "      <td>False</td>\n",
       "      <td>False</td>\n",
       "      <td>False</td>\n",
       "      <td>False</td>\n",
       "      <td>False</td>\n",
       "      <td>False</td>\n",
       "      <td>False</td>\n",
       "      <td>14610</td>\n",
       "      <td>13697</td>\n",
       "      <td>2.2</td>\n",
       "      <td>4</td>\n",
       "      <td>140</td>\n",
       "      <td>26.0</td>\n",
       "      <td>37.0</td>\n",
       "      <td>2617.0</td>\n",
       "      <td>104.0</td>\n",
       "      <td>183.0</td>\n",
       "      <td>69.0</td>\n",
       "    </tr>\n",
       "    <tr>\n",
       "      <th>3</th>\n",
       "      <td>Chevrolet Cavalier 4dr</td>\n",
       "      <td>False</td>\n",
       "      <td>False</td>\n",
       "      <td>False</td>\n",
       "      <td>False</td>\n",
       "      <td>False</td>\n",
       "      <td>False</td>\n",
       "      <td>False</td>\n",
       "      <td>14810</td>\n",
       "      <td>13884</td>\n",
       "      <td>2.2</td>\n",
       "      <td>4</td>\n",
       "      <td>140</td>\n",
       "      <td>26.0</td>\n",
       "      <td>37.0</td>\n",
       "      <td>2676.0</td>\n",
       "      <td>104.0</td>\n",
       "      <td>183.0</td>\n",
       "      <td>68.0</td>\n",
       "    </tr>\n",
       "    <tr>\n",
       "      <th>4</th>\n",
       "      <td>Chevrolet Cavalier LS 2dr</td>\n",
       "      <td>False</td>\n",
       "      <td>False</td>\n",
       "      <td>False</td>\n",
       "      <td>False</td>\n",
       "      <td>False</td>\n",
       "      <td>False</td>\n",
       "      <td>False</td>\n",
       "      <td>16385</td>\n",
       "      <td>15357</td>\n",
       "      <td>2.2</td>\n",
       "      <td>4</td>\n",
       "      <td>140</td>\n",
       "      <td>26.0</td>\n",
       "      <td>37.0</td>\n",
       "      <td>2617.0</td>\n",
       "      <td>104.0</td>\n",
       "      <td>183.0</td>\n",
       "      <td>69.0</td>\n",
       "    </tr>\n",
       "  </tbody>\n",
       "</table>\n",
       "</div>"
      ],
      "text/plain": [
       "                      car_name  sports_car    suv  wagon  minivan  pickup  \\\n",
       "0           Chevrolet Aveo 4dr       False  False  False    False   False   \n",
       "1  Chevrolet Aveo LS 4dr hatch       False  False  False    False   False   \n",
       "2       Chevrolet Cavalier 2dr       False  False  False    False   False   \n",
       "3       Chevrolet Cavalier 4dr       False  False  False    False   False   \n",
       "4    Chevrolet Cavalier LS 2dr       False  False  False    False   False   \n",
       "\n",
       "   all_wheel  rear_wheel  Price  Dealer_Cost  Engine_size  cylenders  \\\n",
       "0      False       False  11690        10965          1.6          4   \n",
       "1      False       False  12585        11802          1.6          4   \n",
       "2      False       False  14610        13697          2.2          4   \n",
       "3      False       False  14810        13884          2.2          4   \n",
       "4      False       False  16385        15357          2.2          4   \n",
       "\n",
       "   horsepower  city_miles_per_galloon  highway_miles_per_Gallon  weight  \\\n",
       "0         103                    28.0                      34.0  2370.0   \n",
       "1         103                    28.0                      34.0  2348.0   \n",
       "2         140                    26.0                      37.0  2617.0   \n",
       "3         140                    26.0                      37.0  2676.0   \n",
       "4         140                    26.0                      37.0  2617.0   \n",
       "\n",
       "   base_wheeel  length  width  \n",
       "0         98.0   167.0   66.0  \n",
       "1         98.0   153.0   66.0  \n",
       "2        104.0   183.0   69.0  \n",
       "3        104.0   183.0   68.0  \n",
       "4        104.0   183.0   69.0  "
      ]
     },
     "execution_count": 19,
     "metadata": {},
     "output_type": "execute_result"
    }
   ],
   "source": [
    "cars.head()"
   ]
  },
  {
   "cell_type": "markdown",
   "id": "12ac9e65",
   "metadata": {},
   "source": [
    "## part 2:\n",
    "## 8- make a subset of the data that has the car name, the price and name the new sub-setted data frame  car pricing."
   ]
  },
  {
   "cell_type": "code",
   "execution_count": 20,
   "id": "3466a3a9",
   "metadata": {},
   "outputs": [],
   "source": [
    "\n",
    "cars_pricing= cars[['car_name','Price']]"
   ]
  },
  {
   "cell_type": "code",
   "execution_count": 21,
   "id": "74c72263",
   "metadata": {},
   "outputs": [
    {
     "data": {
      "text/html": [
       "<div>\n",
       "<style scoped>\n",
       "    .dataframe tbody tr th:only-of-type {\n",
       "        vertical-align: middle;\n",
       "    }\n",
       "\n",
       "    .dataframe tbody tr th {\n",
       "        vertical-align: top;\n",
       "    }\n",
       "\n",
       "    .dataframe thead th {\n",
       "        text-align: right;\n",
       "    }\n",
       "</style>\n",
       "<table border=\"1\" class=\"dataframe\">\n",
       "  <thead>\n",
       "    <tr style=\"text-align: right;\">\n",
       "      <th></th>\n",
       "      <th>car_name</th>\n",
       "      <th>Price</th>\n",
       "    </tr>\n",
       "  </thead>\n",
       "  <tbody>\n",
       "    <tr>\n",
       "      <th>0</th>\n",
       "      <td>Chevrolet Aveo 4dr</td>\n",
       "      <td>11690</td>\n",
       "    </tr>\n",
       "    <tr>\n",
       "      <th>1</th>\n",
       "      <td>Chevrolet Aveo LS 4dr hatch</td>\n",
       "      <td>12585</td>\n",
       "    </tr>\n",
       "    <tr>\n",
       "      <th>2</th>\n",
       "      <td>Chevrolet Cavalier 2dr</td>\n",
       "      <td>14610</td>\n",
       "    </tr>\n",
       "    <tr>\n",
       "      <th>3</th>\n",
       "      <td>Chevrolet Cavalier 4dr</td>\n",
       "      <td>14810</td>\n",
       "    </tr>\n",
       "    <tr>\n",
       "      <th>4</th>\n",
       "      <td>Chevrolet Cavalier LS 2dr</td>\n",
       "      <td>16385</td>\n",
       "    </tr>\n",
       "    <tr>\n",
       "      <th>...</th>\n",
       "      <td>...</td>\n",
       "      <td>...</td>\n",
       "    </tr>\n",
       "    <tr>\n",
       "      <th>423</th>\n",
       "      <td>Nissan Titan King Cab XE</td>\n",
       "      <td>26650</td>\n",
       "    </tr>\n",
       "    <tr>\n",
       "      <th>424</th>\n",
       "      <td>Subaru Baja</td>\n",
       "      <td>24520</td>\n",
       "    </tr>\n",
       "    <tr>\n",
       "      <th>425</th>\n",
       "      <td>Toyota Tacoma</td>\n",
       "      <td>12800</td>\n",
       "    </tr>\n",
       "    <tr>\n",
       "      <th>426</th>\n",
       "      <td>Toyota Tundra Regular Cab V6</td>\n",
       "      <td>16495</td>\n",
       "    </tr>\n",
       "    <tr>\n",
       "      <th>427</th>\n",
       "      <td>Toyota Tundra Access Cab V6 SR5</td>\n",
       "      <td>25935</td>\n",
       "    </tr>\n",
       "  </tbody>\n",
       "</table>\n",
       "<p>428 rows × 2 columns</p>\n",
       "</div>"
      ],
      "text/plain": [
       "                            car_name  Price\n",
       "0                 Chevrolet Aveo 4dr  11690\n",
       "1        Chevrolet Aveo LS 4dr hatch  12585\n",
       "2             Chevrolet Cavalier 2dr  14610\n",
       "3             Chevrolet Cavalier 4dr  14810\n",
       "4          Chevrolet Cavalier LS 2dr  16385\n",
       "..                               ...    ...\n",
       "423         Nissan Titan King Cab XE  26650\n",
       "424                      Subaru Baja  24520\n",
       "425                    Toyota Tacoma  12800\n",
       "426     Toyota Tundra Regular Cab V6  16495\n",
       "427  Toyota Tundra Access Cab V6 SR5  25935\n",
       "\n",
       "[428 rows x 2 columns]"
      ]
     },
     "execution_count": 21,
     "metadata": {},
     "output_type": "execute_result"
    }
   ],
   "source": [
    "cars_pricing"
   ]
  },
  {
   "cell_type": "markdown",
   "id": "bd68efa7",
   "metadata": {},
   "source": [
    "## 9- create a function called pricing category that returns \"Budget Car \" if the cars are less than 20,000 USD,\" Suitable Car \" is the car is more than 20,000 and less than 35 000 and finally an expensive car for cars more than 35000."
   ]
  },
  {
   "cell_type": "code",
   "execution_count": 22,
   "id": "46c5dcef",
   "metadata": {},
   "outputs": [],
   "source": [
    "def pricing_category(price):\n",
    "    if( price < 20000):\n",
    "        a= 'Budget Car'\n",
    "    if((price>= 20000)&(price<= 35000)):\n",
    "        a= 'Suitable Car'\n",
    "    if(price >35000):\n",
    "        a= 'Expensive Car'\n",
    "    return a"
   ]
  },
  {
   "cell_type": "code",
   "execution_count": 23,
   "id": "ae4ce8e6",
   "metadata": {},
   "outputs": [
    {
     "data": {
      "text/plain": [
       "'Expensive Car'"
      ]
     },
     "execution_count": 23,
     "metadata": {},
     "output_type": "execute_result"
    }
   ],
   "source": [
    "pricing_category(50000)"
   ]
  },
  {
   "cell_type": "code",
   "execution_count": 24,
   "id": "ed7aea7d",
   "metadata": {},
   "outputs": [],
   "source": [
    "def pricing_cat(price):\n",
    "    if price < 20000:\n",
    "        return 'Budget Car'\n",
    "    elif 20000 <= price <= 35000:\n",
    "        return 'Suitable Car'\n",
    "    else:\n",
    "        return 'Expensive Car'"
   ]
  },
  {
   "cell_type": "code",
   "execution_count": 25,
   "id": "474f1f83",
   "metadata": {},
   "outputs": [
    {
     "data": {
      "text/plain": [
       "'Budget Car'"
      ]
     },
     "execution_count": 25,
     "metadata": {},
     "output_type": "execute_result"
    }
   ],
   "source": [
    "pricing_cat(10000)"
   ]
  },
  {
   "cell_type": "markdown",
   "id": "af0b5ed2",
   "metadata": {},
   "source": [
    "## 10- create a column named category on the subset using a for loop and pricing category function"
   ]
  },
  {
   "cell_type": "code",
   "execution_count": 27,
   "id": "00dc5be9",
   "metadata": {},
   "outputs": [
    {
     "data": {
      "text/plain": [
       "0      NA\n",
       "1      NA\n",
       "2      NA\n",
       "3      NA\n",
       "4      NA\n",
       "       ..\n",
       "423    NA\n",
       "424    NA\n",
       "425    NA\n",
       "426    NA\n",
       "427    NA\n",
       "Name: category, Length: 428, dtype: object"
      ]
     },
     "execution_count": 27,
     "metadata": {},
     "output_type": "execute_result"
    }
   ],
   "source": [
    "cars_pricing['category']"
   ]
  },
  {
   "cell_type": "code",
   "execution_count": 28,
   "id": "d0ba1be7",
   "metadata": {},
   "outputs": [
    {
     "data": {
      "text/html": [
       "<div>\n",
       "<style scoped>\n",
       "    .dataframe tbody tr th:only-of-type {\n",
       "        vertical-align: middle;\n",
       "    }\n",
       "\n",
       "    .dataframe tbody tr th {\n",
       "        vertical-align: top;\n",
       "    }\n",
       "\n",
       "    .dataframe thead th {\n",
       "        text-align: right;\n",
       "    }\n",
       "</style>\n",
       "<table border=\"1\" class=\"dataframe\">\n",
       "  <thead>\n",
       "    <tr style=\"text-align: right;\">\n",
       "      <th></th>\n",
       "      <th>car_name</th>\n",
       "      <th>Price</th>\n",
       "      <th>category</th>\n",
       "    </tr>\n",
       "  </thead>\n",
       "  <tbody>\n",
       "    <tr>\n",
       "      <th>0</th>\n",
       "      <td>Chevrolet Aveo 4dr</td>\n",
       "      <td>11690</td>\n",
       "      <td>NA</td>\n",
       "    </tr>\n",
       "    <tr>\n",
       "      <th>1</th>\n",
       "      <td>Chevrolet Aveo LS 4dr hatch</td>\n",
       "      <td>12585</td>\n",
       "      <td>NA</td>\n",
       "    </tr>\n",
       "    <tr>\n",
       "      <th>2</th>\n",
       "      <td>Chevrolet Cavalier 2dr</td>\n",
       "      <td>14610</td>\n",
       "      <td>NA</td>\n",
       "    </tr>\n",
       "    <tr>\n",
       "      <th>3</th>\n",
       "      <td>Chevrolet Cavalier 4dr</td>\n",
       "      <td>14810</td>\n",
       "      <td>NA</td>\n",
       "    </tr>\n",
       "    <tr>\n",
       "      <th>4</th>\n",
       "      <td>Chevrolet Cavalier LS 2dr</td>\n",
       "      <td>16385</td>\n",
       "      <td>NA</td>\n",
       "    </tr>\n",
       "  </tbody>\n",
       "</table>\n",
       "</div>"
      ],
      "text/plain": [
       "                      car_name  Price category\n",
       "0           Chevrolet Aveo 4dr  11690       NA\n",
       "1  Chevrolet Aveo LS 4dr hatch  12585       NA\n",
       "2       Chevrolet Cavalier 2dr  14610       NA\n",
       "3       Chevrolet Cavalier 4dr  14810       NA\n",
       "4    Chevrolet Cavalier LS 2dr  16385       NA"
      ]
     },
     "execution_count": 28,
     "metadata": {},
     "output_type": "execute_result"
    }
   ],
   "source": [
    "cars_pricing.head()"
   ]
  },
  {
   "cell_type": "code",
   "execution_count": 29,
   "id": "084f4764",
   "metadata": {},
   "outputs": [
    {
     "name": "stderr",
     "output_type": "stream",
     "text": [
      "C:\\Users\\HP\\AppData\\Local\\Temp\\ipykernel_15864\\2434759066.py:2: SettingWithCopyWarning: \n",
      "A value is trying to be set on a copy of a slice from a DataFrame\n",
      "\n",
      "See the caveats in the documentation: https://pandas.pydata.org/pandas-docs/stable/user_guide/indexing.html#returning-a-view-versus-a-copy\n",
      "  cars_pricing.category[i]= pricing_category(cars_pricing.Price[i])\n"
     ]
    }
   ],
   "source": [
    "for i in range(cars_pricing.shape[0]):\n",
    "    cars_pricing.category[i]= pricing_category(cars_pricing.Price[i])"
   ]
  },
  {
   "cell_type": "code",
   "execution_count": 30,
   "id": "85be7db7",
   "metadata": {},
   "outputs": [
    {
     "data": {
      "text/html": [
       "<div>\n",
       "<style scoped>\n",
       "    .dataframe tbody tr th:only-of-type {\n",
       "        vertical-align: middle;\n",
       "    }\n",
       "\n",
       "    .dataframe tbody tr th {\n",
       "        vertical-align: top;\n",
       "    }\n",
       "\n",
       "    .dataframe thead th {\n",
       "        text-align: right;\n",
       "    }\n",
       "</style>\n",
       "<table border=\"1\" class=\"dataframe\">\n",
       "  <thead>\n",
       "    <tr style=\"text-align: right;\">\n",
       "      <th></th>\n",
       "      <th>car_name</th>\n",
       "      <th>Price</th>\n",
       "      <th>category</th>\n",
       "    </tr>\n",
       "  </thead>\n",
       "  <tbody>\n",
       "    <tr>\n",
       "      <th>0</th>\n",
       "      <td>Chevrolet Aveo 4dr</td>\n",
       "      <td>11690</td>\n",
       "      <td>Budget Car</td>\n",
       "    </tr>\n",
       "    <tr>\n",
       "      <th>1</th>\n",
       "      <td>Chevrolet Aveo LS 4dr hatch</td>\n",
       "      <td>12585</td>\n",
       "      <td>Budget Car</td>\n",
       "    </tr>\n",
       "    <tr>\n",
       "      <th>2</th>\n",
       "      <td>Chevrolet Cavalier 2dr</td>\n",
       "      <td>14610</td>\n",
       "      <td>Budget Car</td>\n",
       "    </tr>\n",
       "    <tr>\n",
       "      <th>3</th>\n",
       "      <td>Chevrolet Cavalier 4dr</td>\n",
       "      <td>14810</td>\n",
       "      <td>Budget Car</td>\n",
       "    </tr>\n",
       "    <tr>\n",
       "      <th>4</th>\n",
       "      <td>Chevrolet Cavalier LS 2dr</td>\n",
       "      <td>16385</td>\n",
       "      <td>Budget Car</td>\n",
       "    </tr>\n",
       "    <tr>\n",
       "      <th>...</th>\n",
       "      <td>...</td>\n",
       "      <td>...</td>\n",
       "      <td>...</td>\n",
       "    </tr>\n",
       "    <tr>\n",
       "      <th>423</th>\n",
       "      <td>Nissan Titan King Cab XE</td>\n",
       "      <td>26650</td>\n",
       "      <td>Suitable Car</td>\n",
       "    </tr>\n",
       "    <tr>\n",
       "      <th>424</th>\n",
       "      <td>Subaru Baja</td>\n",
       "      <td>24520</td>\n",
       "      <td>Suitable Car</td>\n",
       "    </tr>\n",
       "    <tr>\n",
       "      <th>425</th>\n",
       "      <td>Toyota Tacoma</td>\n",
       "      <td>12800</td>\n",
       "      <td>Budget Car</td>\n",
       "    </tr>\n",
       "    <tr>\n",
       "      <th>426</th>\n",
       "      <td>Toyota Tundra Regular Cab V6</td>\n",
       "      <td>16495</td>\n",
       "      <td>Budget Car</td>\n",
       "    </tr>\n",
       "    <tr>\n",
       "      <th>427</th>\n",
       "      <td>Toyota Tundra Access Cab V6 SR5</td>\n",
       "      <td>25935</td>\n",
       "      <td>Suitable Car</td>\n",
       "    </tr>\n",
       "  </tbody>\n",
       "</table>\n",
       "<p>428 rows × 3 columns</p>\n",
       "</div>"
      ],
      "text/plain": [
       "                            car_name  Price      category\n",
       "0                 Chevrolet Aveo 4dr  11690    Budget Car\n",
       "1        Chevrolet Aveo LS 4dr hatch  12585    Budget Car\n",
       "2             Chevrolet Cavalier 2dr  14610    Budget Car\n",
       "3             Chevrolet Cavalier 4dr  14810    Budget Car\n",
       "4          Chevrolet Cavalier LS 2dr  16385    Budget Car\n",
       "..                               ...    ...           ...\n",
       "423         Nissan Titan King Cab XE  26650  Suitable Car\n",
       "424                      Subaru Baja  24520  Suitable Car\n",
       "425                    Toyota Tacoma  12800    Budget Car\n",
       "426     Toyota Tundra Regular Cab V6  16495    Budget Car\n",
       "427  Toyota Tundra Access Cab V6 SR5  25935  Suitable Car\n",
       "\n",
       "[428 rows x 3 columns]"
      ]
     },
     "execution_count": 30,
     "metadata": {},
     "output_type": "execute_result"
    }
   ],
   "source": [
    "cars_pricing"
   ]
  },
  {
   "cell_type": "markdown",
   "id": "643afe97",
   "metadata": {},
   "source": [
    "## 11- How many Budget cars, suitable cars, and expensive cars we have?"
   ]
  },
  {
   "cell_type": "code",
   "execution_count": 31,
   "id": "b7d37f1f",
   "metadata": {},
   "outputs": [
    {
     "data": {
      "text/plain": [
       "Suitable Car     193\n",
       "Expensive Car    137\n",
       "Budget Car        98\n",
       "Name: category, dtype: int64"
      ]
     },
     "execution_count": 31,
     "metadata": {},
     "output_type": "execute_result"
    }
   ],
   "source": [
    "cars_pricing.category.value_counts()"
   ]
  }
 ],
 "metadata": {
  "kernelspec": {
   "display_name": "Python 3 (ipykernel)",
   "language": "python",
   "name": "python3"
  },
  "language_info": {
   "codemirror_mode": {
    "name": "ipython",
    "version": 3
   },
   "file_extension": ".py",
   "mimetype": "text/x-python",
   "name": "python",
   "nbconvert_exporter": "python",
   "pygments_lexer": "ipython3",
   "version": "3.11.4"
  }
 },
 "nbformat": 4,
 "nbformat_minor": 5
}
